{
  "nbformat": 4,
  "nbformat_minor": 0,
  "metadata": {
    "colab": {
      "provenance": []
    },
    "kernelspec": {
      "name": "python3",
      "display_name": "Python 3"
    },
    "language_info": {
      "name": "python"
    }
  },
  "cells": [
    {
      "cell_type": "markdown",
      "source": [
        "1. What is Python, and why is it popular?\n",
        "\n",
        "   - Python is a programming language known for its simplicity and readability.\n",
        "\n",
        "Why is Python popular?\n",
        "\n",
        "* Easy to learn - Uses simple syntax similar to English.\n",
        "\n",
        "* Versatile- Used in web development, data science, AI, automation, and more.\n",
        "\n",
        "* Large community support- Vast libraries and frameworks (NumPy, Pandas,        Django, etc.).\n",
        "\n",
        "2. What is an interpreter in Python?\n",
        "\n",
        "  - An interpreter is a program that executes Python code line by line, Examples include CPython, PyPy, and Jython.\n",
        "\n",
        "3. What are pre-defined keywords in Python?\n",
        "  - Pre-defined keywords are reserved words in Python that have special meanings. Examples include:\n",
        "\n",
        "* Control flow: if, else, elif, for, while, break, continue\n",
        "\n",
        "* Data types: int, float, bool, str, list, tuple, dict\n",
        "\n",
        "* Boolean values: True, False, None\n",
        "\n",
        "4. Can keywords be used as variable names?\n",
        "   - No, keywords cannot be used as variable names because they have predefined meanings in Python. Trying to use a keyword as a variable will result in a SyntaxError.\n",
        "\n",
        "5. What is mutability in Python?\n",
        "\n",
        "   - Whether an object’s state can be change after its creation.\n",
        "* Mutable objects: Can be changed (e.g., list ).\n",
        "\n",
        "* Immutable objects: Cannot be changed (e.g., int, float, str, tuple).\n",
        "\n",
        "\n",
        "6. Why are lists mutable, but tuples are immutable?\n",
        "   - Lists (list) are mutable because they allow change such as adding, removing, and changing elements.\n",
        "\n",
        "   - Tuples (tuple) are immutable because they ensure data integrity and improve performance by preventing modifications.\n",
        "\n",
        "7. What is the difference between == and is operators in Python?\n",
        "   - == (Equality operator): Compares values of two objects.\n",
        "   -is (Identity operator): Checks if two variables refer to the same memory location.\n",
        "\n",
        "8. What are logical operators in Python?\n",
        "   - Logical operators perform boolean operations:\n",
        "\n",
        "* and – Returns True if both conditions are True.\n",
        "\n",
        "* or – Returns True if at least one condition is True.\n",
        "\n",
        "* not – Returns the opposite boolean value.\n",
        "\n",
        "9. What is type casting in Python?\n",
        "   - Type casting is the process of converting one data type into another.\n",
        "\n",
        "10. What is the difference between implicit and explicit type casting?\n",
        "   - Implicit type casting  – Python automatically converts a smaller data type to a larger one.\n",
        "   - Explicit type casting (manual conversion) – The user converts data explicitly using int(), float(), str(), etc.\n",
        "\n",
        "11. What is the purpose of conditional statements in Python?\n",
        "   - Conditional statements control the flow of execution based on conditions. They help in decision-making.\n",
        "\n",
        "12. How does the elif statement work?\n",
        "   - The elif (short for \"else if\") statement allows checking multiple conditions sequentially. If the first condition is False, it moves to the next elif condition. If none match, the else block runs.\n",
        "\n",
        "13. What is the difference between for and while loops?\n",
        "   - for Loop:\n",
        "* Structure: Typically consists of Initial setup,\n",
        "* condition, and iteration in one line.\n",
        "* Usage: Best used when the number of iterations is known beforehand or when iterating over a collection (eg- lists)\n",
        "   - while Loop:\n",
        "* Structure: Continues to execute as long as a specified condition is true. Initial Setup and iteration are often handled within the loop.\n",
        "* Usage: More flexible and suitable for situations where the number of iterations is not known in advance.\n",
        "\n",
        "14. Describe a scenario where a while loop is more suitable than a for loop.\n",
        "   - A while loop is better when the number of iterations is not known beforehand.\n",
        "   - This loop keeps running until the correct password is entered.\n",
        "   - A for loop would not work well here because we don't know how many attempts the user will need."
      ],
      "metadata": {
        "id": "6q99aEP6raOS"
      }
    },
    {
      "cell_type": "markdown",
      "source": [
        "# New Section"
      ],
      "metadata": {
        "id": "ClwEEl9fAEXQ"
      }
    },
    {
      "cell_type": "code",
      "source": [
        "# PARATICAL QUESTION\n",
        "\n",
        "# 1. Write a Python program to print \"Hello, World!\n",
        "print(\"Hello, World!\")"
      ],
      "metadata": {
        "colab": {
          "base_uri": "https://localhost:8080/"
        },
        "id": "57tkODhs06ub",
        "outputId": "12777017-daa9-4de6-b3a8-b760bec40a43"
      },
      "execution_count": null,
      "outputs": [
        {
          "output_type": "stream",
          "name": "stdout",
          "text": [
            "Hello, World!\n"
          ]
        }
      ]
    },
    {
      "cell_type": "code",
      "source": [
        "# 2. Write a Python program that displays your name and age.\n",
        "name = \"Prabhat Kumar\"\n",
        "age = 21\n",
        "print(name)\n",
        "print(age)"
      ],
      "metadata": {
        "colab": {
          "base_uri": "https://localhost:8080/"
        },
        "id": "3vealMUM1F1k",
        "outputId": "bd9bd338-e270-4854-fcfc-8d0134c808a2"
      },
      "execution_count": null,
      "outputs": [
        {
          "output_type": "stream",
          "name": "stdout",
          "text": [
            "Prabhat Kumar\n",
            "21\n"
          ]
        }
      ]
    },
    {
      "cell_type": "code",
      "source": [
        "# 3.Write code to print all the pre-defined keywords in Python using the keyword library.\n",
        "import keyword\n",
        "print(keyword.kwlist)"
      ],
      "metadata": {
        "colab": {
          "base_uri": "https://localhost:8080/"
        },
        "id": "mo0-_wjh1-K1",
        "outputId": "09b04788-d3d7-4080-ba3c-0efec6d559fb"
      },
      "execution_count": null,
      "outputs": [
        {
          "output_type": "stream",
          "name": "stdout",
          "text": [
            "['False', 'None', 'True', 'and', 'as', 'assert', 'async', 'await', 'break', 'class', 'continue', 'def', 'del', 'elif', 'else', 'except', 'finally', 'for', 'from', 'global', 'if', 'import', 'in', 'is', 'lambda', 'nonlocal', 'not', 'or', 'pass', 'raise', 'return', 'try', 'while', 'with', 'yield']\n"
          ]
        }
      ]
    },
    {
      "cell_type": "code",
      "source": [
        "# 4.Write a program that checks if a given word is a Python keyword.\n",
        "import keyword\n",
        "word = input(\"Enter a word: \")\n",
        "if keyword.iskeyword(word):\n",
        "    print(f\"{word} is a Python keyword.\")\n",
        "else:\n",
        "    print(f\"{word} is not a Python keyword.\")"
      ],
      "metadata": {
        "colab": {
          "base_uri": "https://localhost:8080/"
        },
        "id": "vPlk2W7a3lsv",
        "outputId": "5934281b-2a16-4c34-b84d-33b8ab723ff8"
      },
      "execution_count": null,
      "outputs": [
        {
          "output_type": "stream",
          "name": "stdout",
          "text": [
            "Enter a word: Prabhat\n",
            "Prabhat is not a Python keyword.\n"
          ]
        }
      ]
    },
    {
      "cell_type": "code",
      "source": [
        "# 5.Create a list and tuple in Python, and demonstrate how attempting to change an element works differently\n",
        "#for each.\n",
        "\n",
        "# Creating a list (mutable)\n",
        "my_list = [1, 2, 3]\n",
        "my_list[0] = 100  # Allowed\n",
        "print(my_list)\n",
        "\n",
        "# Creating a tuple (immutable)\n",
        "my_tuple = (1, 2, 3)\n",
        "try:\n",
        "    my_tuple[0] = 100  # Not allowed\n",
        "except TypeError as e:\n",
        "    print(e)\n"
      ],
      "metadata": {
        "colab": {
          "base_uri": "https://localhost:8080/"
        },
        "id": "H6rjdr6C4jtW",
        "outputId": "3c7177e0-ccb9-4f0d-9c6a-2cfbb2669fe5"
      },
      "execution_count": null,
      "outputs": [
        {
          "output_type": "stream",
          "name": "stdout",
          "text": [
            "[100, 2, 3]\n",
            "'tuple' object does not support item assignment\n"
          ]
        }
      ]
    },
    {
      "cell_type": "code",
      "source": [
        "#6. Write a function to demonstrate the behavior of mutable and immutable arguments.\n",
        "\n",
        "def modify_data(immutable, mutable):\n",
        "    immutable += 1  # New integer object is created\n",
        "    mutable.append(4)  # List is modified in-place\n",
        "\n",
        "num = 10\n",
        "lst = [1, 2, 3]\n",
        "\n",
        "modify_data(num, lst)\n",
        "print(\"Immutable (int):\", num)  # Still 10\n",
        "print(\"Mutable (list):\", lst)  # List is modified\n"
      ],
      "metadata": {
        "id": "4AraeT8F5OMs",
        "colab": {
          "base_uri": "https://localhost:8080/"
        },
        "outputId": "aaec38aa-3658-4c99-8238-26d2332e12d7"
      },
      "execution_count": null,
      "outputs": [
        {
          "output_type": "stream",
          "name": "stdout",
          "text": [
            "Immutable (int): 10\n",
            "Mutable (list): [1, 2, 3, 4]\n"
          ]
        }
      ]
    },
    {
      "cell_type": "code",
      "source": [
        "#7. Write a function to demonstrate the behavior of mutable and immutable arguments.\n",
        "\n",
        "def modify_data(immutable, mutable):\n",
        "    immutable += 1  # New integer object is created\n",
        "    mutable.append(4)  # List is modified in-place\n",
        "\n",
        "num = 10\n",
        "lst = [1, 2, 3]\n",
        "\n",
        "modify_data(num, lst)\n",
        "print(\"Immutable (int):\", num)\n",
        "print(\"Mutable (list):\", lst)\n"
      ],
      "metadata": {
        "colab": {
          "base_uri": "https://localhost:8080/"
        },
        "id": "4S5tEaPh6_Fl",
        "outputId": "87ed2f83-9bdd-45cf-fe3e-acded50d2a62"
      },
      "execution_count": 9,
      "outputs": [
        {
          "output_type": "stream",
          "name": "stdout",
          "text": [
            "Immutable (int): 10\n",
            "Mutable (list): [1, 2, 3, 4]\n"
          ]
        }
      ]
    },
    {
      "cell_type": "code",
      "source": [
        "#8.  Write a program to demonstrate the use of logical operators.\n",
        "a = 10\n",
        "b = 20\n",
        "\n",
        "print(a > 5 and b < 30)  # True\n",
        "print(a > 15 or b < 30)  # True\n",
        "print(not (a < 5))  # True\n"
      ],
      "metadata": {
        "colab": {
          "base_uri": "https://localhost:8080/"
        },
        "id": "ouGoAN-T7CLh",
        "outputId": "8290756c-714e-4af7-eb94-a49bc23e7422"
      },
      "execution_count": null,
      "outputs": [
        {
          "output_type": "stream",
          "name": "stdout",
          "text": [
            "True\n",
            "True\n",
            "True\n"
          ]
        }
      ]
    },
    {
      "cell_type": "code",
      "source": [
        "#9. Write a Python program to convert user input from string to integer, float, and boolean types.\n",
        "\n",
        "user_input = input(\"Enter a value: \")\n",
        "\n",
        "# Convert to different types\n",
        "int_value = int(user_input)\n",
        "float_value = float(user_input)\n",
        "bool_value = bool(user_input)\n",
        "\n",
        "print(\"Integer:\", int_value)\n",
        "print(\"Float:\", float_value)\n",
        "print(\"Boolean:\", bool_value)\n"
      ],
      "metadata": {
        "colab": {
          "base_uri": "https://localhost:8080/"
        },
        "id": "SFskObXZ7cXP",
        "outputId": "ecd5f796-f93d-4c56-ca61-b009f383ad6e"
      },
      "execution_count": 8,
      "outputs": [
        {
          "output_type": "stream",
          "name": "stdout",
          "text": [
            "Enter a value: 100\n",
            "Integer: 100\n",
            "Float: 100.0\n",
            "Boolean: True\n"
          ]
        }
      ]
    },
    {
      "cell_type": "code",
      "source": [
        "#10.  Write code to demonstrate type casting with list elements.\n",
        "\n",
        "my_list = [\"10\", \"20\", \"30\"]\n",
        "\n",
        "# Convert all elements to integers\n",
        "int_list = list((int, my_list))\n",
        "print(\"Integer List:\", int_list)\n"
      ],
      "metadata": {
        "colab": {
          "base_uri": "https://localhost:8080/"
        },
        "id": "_j75F06s9btQ",
        "outputId": "70a35590-fa6b-42bd-d9bb-08934c8a67ac"
      },
      "execution_count": 11,
      "outputs": [
        {
          "output_type": "stream",
          "name": "stdout",
          "text": [
            "Integer List: [<class 'int'>, ['10', '20', '30']]\n"
          ]
        }
      ]
    },
    {
      "cell_type": "code",
      "source": [
        "#11.  Write a program that checks if a number is positive, negative, or zero.\n",
        "\n",
        "num = int(input(\"Enter a number: \"))\n",
        "\n",
        "if num > 0:\n",
        "    print(\"Positive number\")\n",
        "elif num < 0:\n",
        "    print(\"Negative number\")\n",
        "else:\n",
        "    print(\"Zero\")\n"
      ],
      "metadata": {
        "colab": {
          "base_uri": "https://localhost:8080/"
        },
        "id": "MvJf8ddU95uw",
        "outputId": "297262a5-556a-407f-9ff9-248b45ad09a4"
      },
      "execution_count": 12,
      "outputs": [
        {
          "output_type": "stream",
          "name": "stdout",
          "text": [
            "Enter a number: 9\n",
            "Positive number\n"
          ]
        }
      ]
    },
    {
      "cell_type": "code",
      "source": [
        "#12. Write a for loop to print numbers from 1 to 10.\n",
        "\n",
        "for i in range(1, 11):\n",
        "    print(i)\n"
      ],
      "metadata": {
        "colab": {
          "base_uri": "https://localhost:8080/"
        },
        "id": "rlTQcqcN-NM9",
        "outputId": "d99a0532-77e6-4922-c860-a58f019d9560"
      },
      "execution_count": 13,
      "outputs": [
        {
          "output_type": "stream",
          "name": "stdout",
          "text": [
            "1\n",
            "2\n",
            "3\n",
            "4\n",
            "5\n",
            "6\n",
            "7\n",
            "8\n",
            "9\n",
            "10\n"
          ]
        }
      ]
    },
    {
      "cell_type": "code",
      "source": [
        "#13.   Write a Python program to find the sum of all even numbers between 1 and 50.\n",
        "\n",
        "sum_even = sum(i for i in range(1, 50) if i % 2 == 0)\n",
        "print(\"Sum of even numbers from 1 to 50:\", sum_even)\n"
      ],
      "metadata": {
        "colab": {
          "base_uri": "https://localhost:8080/"
        },
        "id": "TaxFsDlx-pOc",
        "outputId": "c3552777-0e0f-4cfa-9b98-a7726104a678"
      },
      "execution_count": 15,
      "outputs": [
        {
          "output_type": "stream",
          "name": "stdout",
          "text": [
            "Sum of even numbers from 1 to 50: 600\n"
          ]
        }
      ]
    },
    {
      "cell_type": "code",
      "source": [
        "#14.   Write a program to reverse a string using a while loop.\n",
        "\n",
        "text = input(\"Enter a string: \")\n",
        "reversed_text = \"\"\n",
        "i = len(text) - 1\n",
        "\n",
        "while i >= 0:\n",
        "    reversed_text += text[i]\n",
        "    i -= 1\n",
        "\n",
        "print(\"Reversed String:\", reversed_text)\n"
      ],
      "metadata": {
        "colab": {
          "base_uri": "https://localhost:8080/"
        },
        "id": "GF5Frsg__GwI",
        "outputId": "8ae616f6-6d71-47d9-c0e6-5643d885bcd4"
      },
      "execution_count": 16,
      "outputs": [
        {
          "output_type": "stream",
          "name": "stdout",
          "text": [
            "Enter a string: Prabhat\n",
            "Reversed String: tahbarP\n"
          ]
        }
      ]
    },
    {
      "cell_type": "code",
      "source": [
        "#15.   Write a Python program to calculate the factorial of a number provided by the user using a while loop.\n",
        "\n",
        "num = int(input(\"Enter a number: \"))\n",
        "factorial = 1\n",
        "i = 1\n",
        "\n",
        "while i <= num:\n",
        "    factorial *= i\n",
        "    i += 1\n",
        "\n",
        "print(\"Factorial:\", factorial)\n"
      ],
      "metadata": {
        "colab": {
          "base_uri": "https://localhost:8080/"
        },
        "id": "uLtH9nYb_a5t",
        "outputId": "b87ebb81-c81a-4979-ec72-57aef8f146b1"
      },
      "execution_count": 20,
      "outputs": [
        {
          "output_type": "stream",
          "name": "stdout",
          "text": [
            "Enter a number: 73\n",
            "Factorial: 4470115461512684340891257138125051110076800700282905015819080092370422104067183317016903680000000000000000\n"
          ]
        }
      ]
    }
  ]
}